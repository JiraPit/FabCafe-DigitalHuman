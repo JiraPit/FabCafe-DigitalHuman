{
 "cells": [
  {
   "cell_type": "code",
   "execution_count": 10,
   "metadata": {},
   "outputs": [],
   "source": [
    "import os\n",
    "os.chdir(\"C:/Users/pitak/Desktop/DigitalHuman-Speak\")\n",
    "import pyaudio\n",
    "import speech_recognition as sr\n",
    "import util.TextProcessingUtil as tpu\n",
    "import util.TextVerifyingUtil as tvu"
   ]
  },
  {
   "cell_type": "code",
   "execution_count": 14,
   "metadata": {},
   "outputs": [
    {
     "name": "stdout",
     "output_type": "stream",
     "text": [
      "1 2 3 4 5\n",
      "Processing Syllable: 1 2 3 4 5 \n",
      "Used Vowels: [] (0)\n",
      "Error: too many letters\n",
      "[]\n"
     ]
    }
   ],
   "source": [
    "\n",
    "mic = sr.Microphone(1)\n",
    "recog = sr.Recognizer()\n",
    "text =\"\"\n",
    "with mic as source:\n",
    "    speech = recog.listen(source)\n",
    "    text = recog.recognize_google(speech,language='th')\n",
    "    print(text)\n",
    "    result = tpu.TextProcess(text)\n",
    "    result = tvu.TextDictVerify(result)\n",
    "    print(result)\n"
   ]
  },
  {
   "cell_type": "code",
   "execution_count": null,
   "metadata": {},
   "outputs": [],
   "source": []
  },
  {
   "cell_type": "code",
   "execution_count": 2,
   "metadata": {},
   "outputs": [
    {
     "name": "stdout",
     "output_type": "stream",
     "text": [
      "สวัสดีครับ\n"
     ]
    }
   ],
   "source": [
    "import pyaudio\n",
    "import speech_recognition as sr\n",
    "mic = sr.Microphone(1)\n",
    "recog = sr.Recognizer()\n",
    "text = \"\"\n",
    "with mic as source:\n",
    "    speech = recog.listen(source)\n",
    "    text = recog.recognize_google(speech,language='th')\n",
    "print(text)"
   ]
  },
  {
   "cell_type": "code",
   "execution_count": null,
   "metadata": {},
   "outputs": [],
   "source": [
    "sr.AudioData()"
   ]
  }
 ],
 "metadata": {
  "interpreter": {
   "hash": "c9e17120b38f35ca567db242fd49c376ab6d2fbeb4154db9bcfb89e8b30a5a51"
  },
  "kernelspec": {
   "display_name": "Python 3.9.7 ('base')",
   "language": "python",
   "name": "python3"
  },
  "language_info": {
   "codemirror_mode": {
    "name": "ipython",
    "version": 3
   },
   "file_extension": ".py",
   "mimetype": "text/x-python",
   "name": "python",
   "nbconvert_exporter": "python",
   "pygments_lexer": "ipython3",
   "version": "3.9.7"
  },
  "orig_nbformat": 4
 },
 "nbformat": 4,
 "nbformat_minor": 2
}
